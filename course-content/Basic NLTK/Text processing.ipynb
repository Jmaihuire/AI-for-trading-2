{
 "cells": [
  {
   "cell_type": "markdown",
   "metadata": {},
   "source": [
    "# Text Processing\n",
    "\n",
    "## Capturing Text Data\n",
    "\n",
    "### Plain Text"
   ]
  },
  {
   "cell_type": "code",
   "execution_count": 1,
   "metadata": {},
   "outputs": [
    {
     "name": "stdout",
     "output_type": "stream",
     "text": [
      "Hieroglyphic writing dates from c. 3000 BC, and is composed of hundreds of symbols. A hieroglyph can represent a word, a sound, or a silent determinative; and the same symbol can serve different purposes in different contexts. Hieroglyphs were a formal script, used on stone monuments and in tombs, that could be as detailed as individual works of art.\n",
      "\n"
     ]
    }
   ],
   "source": [
    "import os\n",
    "\n",
    "# Read in a plain text file\n",
    "with open(os.path.join(\"data\", \"hieroglyph.txt\"), \"r\") as f:\n",
    "    text = f.read()\n",
    "    print(text)"
   ]
  },
  {
   "cell_type": "markdown",
   "metadata": {},
   "source": [
    "### Tabular Data"
   ]
  },
  {
   "cell_type": "code",
   "execution_count": 2,
   "metadata": {
    "scrolled": true
   },
   "outputs": [
    {
     "data": {
      "text/html": [
       "<div>\n",
       "<style scoped>\n",
       "    .dataframe tbody tr th:only-of-type {\n",
       "        vertical-align: middle;\n",
       "    }\n",
       "\n",
       "    .dataframe tbody tr th {\n",
       "        vertical-align: top;\n",
       "    }\n",
       "\n",
       "    .dataframe thead th {\n",
       "        text-align: right;\n",
       "    }\n",
       "</style>\n",
       "<table border=\"1\" class=\"dataframe\">\n",
       "  <thead>\n",
       "    <tr style=\"text-align: right;\">\n",
       "      <th></th>\n",
       "      <th>publisher</th>\n",
       "      <th>title</th>\n",
       "    </tr>\n",
       "  </thead>\n",
       "  <tbody>\n",
       "    <tr>\n",
       "      <th>0</th>\n",
       "      <td>Livemint</td>\n",
       "      <td>fed's charles plosser sees high bar for change...</td>\n",
       "    </tr>\n",
       "    <tr>\n",
       "      <th>1</th>\n",
       "      <td>IFA Magazine</td>\n",
       "      <td>us open: stocks fall after fed official hints ...</td>\n",
       "    </tr>\n",
       "    <tr>\n",
       "      <th>2</th>\n",
       "      <td>IFA Magazine</td>\n",
       "      <td>fed risks falling 'behind the curve', charles ...</td>\n",
       "    </tr>\n",
       "    <tr>\n",
       "      <th>3</th>\n",
       "      <td>Moneynews</td>\n",
       "      <td>fed's plosser: nasty weather has curbed job gr...</td>\n",
       "    </tr>\n",
       "    <tr>\n",
       "      <th>4</th>\n",
       "      <td>NASDAQ</td>\n",
       "      <td>plosser: fed may have to accelerate tapering pace</td>\n",
       "    </tr>\n",
       "  </tbody>\n",
       "</table>\n",
       "</div>"
      ],
      "text/plain": [
       "      publisher                                              title\n",
       "0      Livemint  fed's charles plosser sees high bar for change...\n",
       "1  IFA Magazine  us open: stocks fall after fed official hints ...\n",
       "2  IFA Magazine  fed risks falling 'behind the curve', charles ...\n",
       "3     Moneynews  fed's plosser: nasty weather has curbed job gr...\n",
       "4        NASDAQ  plosser: fed may have to accelerate tapering pace"
      ]
     },
     "execution_count": 2,
     "metadata": {},
     "output_type": "execute_result"
    }
   ],
   "source": [
    "import pandas as pd\n",
    "\n",
    "# Extract text column from a dataframe\n",
    "df = pd.read_csv(os.path.join(\"data\", \"news.csv\"))\n",
    "df.head()[['publisher', 'title']]\n",
    "\n",
    "# Convert text column to lowercase\n",
    "df['title'] = df['title'].str.lower()\n",
    "df.head()[['publisher', 'title']]"
   ]
  },
  {
   "cell_type": "markdown",
   "metadata": {},
   "source": [
    "### Online Resource"
   ]
  },
  {
   "cell_type": "code",
   "execution_count": 3,
   "metadata": {
    "scrolled": true
   },
   "outputs": [
    {
     "name": "stdout",
     "output_type": "stream",
     "text": [
      "{\n",
      "    \"success\": {\n",
      "        \"total\": 1\n",
      "    },\n",
      "    \"contents\": {\n",
      "        \"quotes\": [\n",
      "            {\n",
      "                \"quote\": \"Once a man has made a commitment to a way of life, he puts the greatest strength in the world behind him. It's something we call heart power. Once a man has made his commitment, nothing will stop him short of success.\",\n",
      "                \"length\": \"217\",\n",
      "                \"author\": \"Vince Lombardi\",\n",
      "                \"tags\": [\n",
      "                    \"commitment\",\n",
      "                    \"inspire\",\n",
      "                    \"life\",\n",
      "                    \"success\",\n",
      "                    \"tod\"\n",
      "                ],\n",
      "                \"category\": \"inspire\",\n",
      "                \"language\": \"en\",\n",
      "                \"date\": \"2021-03-14\",\n",
      "                \"permalink\": \"https://theysaidso.com/quote/vince-lombardi-once-a-man-has-made-a-commitment-to-a-way-of-life-he-puts-the-gre\",\n",
      "                \"id\": \"LAHTxgy3JtogvSh1emRUrQeF\",\n",
      "                \"background\": \"https://theysaidso.com/img/qod/qod-inspire.jpg\",\n",
      "                \"title\": \"Inspiring Quote of the day\"\n",
      "            }\n",
      "        ]\n",
      "    },\n",
      "    \"baseurl\": \"https://theysaidso.com\",\n",
      "    \"copyright\": {\n",
      "        \"year\": 2023,\n",
      "        \"url\": \"https://theysaidso.com\"\n",
      "    }\n",
      "}\n",
      "Once a man has made a commitment to a way of life, he puts the greatest strength in the world behind him. It's something we call heart power. Once a man has made his commitment, nothing will stop him short of success. \n",
      "-- Vince Lombardi\n"
     ]
    }
   ],
   "source": [
    "import requests\n",
    "import json\n",
    "\n",
    "# Fetch data from a REST API\n",
    "r = requests.get(\n",
    "    \"https://quotes.rest/qod.json\")\n",
    "res = r.json()\n",
    "print(json.dumps(res, indent=4))\n",
    "\n",
    "# Extract relevant object and field\n",
    "q = res[\"contents\"][\"quotes\"][0]\n",
    "print(q[\"quote\"], \"\\n--\", q[\"author\"])"
   ]
  },
  {
   "cell_type": "markdown",
   "metadata": {},
   "source": [
    "## Cleaning"
   ]
  },
  {
   "cell_type": "code",
   "execution_count": 4,
   "metadata": {
    "scrolled": true
   },
   "outputs": [
    {
     "name": "stdout",
     "output_type": "stream",
     "text": [
      "<html lang=\"en\" op=\"news\"><head><meta name=\"referrer\" content=\"origin\"><meta name=\"viewport\" content=\"width=device-width, initial-scale=1.0\"><link rel=\"stylesheet\" type=\"text/css\" href=\"news.css?EYu5zenGHAD8KsmXPGxH\">\n",
      "        <link rel=\"shortcut icon\" href=\"favicon.ico\">\n",
      "          <link rel=\"alternate\" type=\"application/rss+xml\" title=\"RSS\" href=\"rss\">\n",
      "        <title>Hacker News</title></head><body><center><table id=\"hnmain\" border=\"0\" cellpadding=\"0\" cellspacing=\"0\" width=\"85%\" bgcolor=\"#f6f6ef\">\n",
      "        <tr><td bgcolor=\"#ff6600\"><table border=\"0\" cellpadding=\"0\" cellspacing=\"0\" width=\"100%\" style=\"padding:2px\"><tr><td style=\"width:18px;padding-right:4px\"><a href=\"https://news.ycombinator.com\"><img src=\"y18.gif\" width=\"18\" height=\"18\" style=\"border:1px white solid;\"></a></td>\n",
      "                  <td style=\"line-height:12pt; height:10px;\"><span class=\"pagetop\"><b class=\"hnname\"><a href=\"news\">Hacker News</a></b>\n",
      "              <a href=\"newest\">new</a> | <a href=\"front\">past</a> | <a href=\"newcomments\">comments</a> | <a href=\"ask\">ask</a> | <a href=\"show\">show</a> | <a href=\"jobs\">jobs</a> | <a href=\"submit\">submit</a>            </span></td><td style=\"text-align:right;padding-right:4px;\"><span class=\"pagetop\">\n",
      "                              <a href=\"login?goto=news\">login</a>\n",
      "                          </span></td>\n",
      "              </tr></table></td></tr>\n",
      "<tr id=\"pagespace\" title=\"\" style=\"height:10px\"></tr><tr><td><table border=\"0\" cellpadding=\"0\" cellspacing=\"0\" class=\"itemlist\">\n",
      "              <tr class='athing' id='26455493'>\n",
      "      <td align=\"right\" valign=\"top\" class=\"title\"><span class=\"rank\">1.</span></td>      <td valign=\"top\" class=\"votelinks\"><center><a id='up_26455493' href='vote?id=26455493&amp;how=up&amp;goto=news'><div class='votearrow' title='upvote'></div></a></center></td><td class=\"title\"><a href=\"https://securitytxt.org/\" class=\"storylink\">security.txt</a><span class=\"sitebit comhead\"> (<a href=\"from?site=securitytxt.org\"><span class=\"sitestr\">securitytxt.org</span></a>)</span></td></tr><tr><td colspan=\"2\"></td><td class=\"subtext\">\n",
      "        <span class=\"score\" id=\"score_26455493\">357 points</span> by <a href=\"user?id=tosh\" class=\"hnuser\">tosh</a> <span class=\"age\"><a href=\"item?id=26455493\">5 hours ago</a></span> <span id=\"unv_26455493\"></span> | <a href=\"hide?id=26455493&amp;goto=news\">hide</a> | <a href=\"item?id=26455493\">75&nbsp;comments</a>              </td></tr>\n",
      "      <tr class=\"spacer\" style=\"height:5px\"></tr>\n",
      "                <tr class='athing' id='26455058'>\n",
      "      <td align=\"right\" valign=\"top\" class=\"title\"><span class=\"rank\">2.</span></td>      <td valign=\"top\" class=\"votelinks\"><center><a id='up_26455058' href='vote?id=26455058&amp;how=up&amp;goto=news'><div class='votearrow' title='upvote'></div></a></center></td><td class=\"title\"><a href=\"https://github.com/harporoeder/ebpfsnitch\" class=\"storylink\">EBPFSnitch: An eBPF based Linux Application Firewall</a><span class=\"sitebit comhead\"> (<a href=\"from?site=github.com/harporoeder\"><span class=\"sitestr\">github.com/harporoeder</span></a>)</span></td></tr><tr><td colspan=\"2\"></td><td class=\"subtext\">\n",
      "        <span class=\"score\" id=\"score_26455058\">188 points</span> by <a href=\"user?id=harporoeder\" class=\"hnuser\">harporoeder</a> <span class=\"age\"><a href=\"item?id=26455058\">6 hours ago</a></span> <span id=\"unv_26455058\"></span> | <a href=\"hide?id=26455058&amp;goto=news\">hide</a> | <a href=\"item?id=26455058\">47&nbsp;comments</a>              </td></tr>\n",
      "      <tr class=\"spacer\" style=\"height:5px\"></tr>\n",
      "                <tr class='athing' id='26456587'>\n",
      "      <td align=\"right\" valign=\"top\" class=\"title\"><span class=\"rank\">3.</span></td>      <td valign=\"top\" class=\"votelinks\"><center><a id='up_26456587' href='vote?id=26456587&amp;how=up&amp;goto=news'><div class='votearrow' title='upvote'></div></a></center></td><td class=\"title\"><a href=\"https://ezcontents.org/atari-800xl-pcb-remake\" class=\"storylink\">Atari 800XL PCB Remake</a><span class=\"sitebit comhead\"> (<a href=\"from?site=ezcontents.org\"><span class=\"sitestr\">ezcontents.org</span></a>)</span></td></tr><tr><td colspan=\"2\"></td><td class=\"subtext\">\n",
      "        <span class=\"score\" id=\"score_26456587\">35 points</span> by <a href=\"user?id=mariuz\" class=\"hnuser\">mariuz</a> <span class=\"age\"><a href=\"item?id=26456587\">3 hours ago</a></span> <span id=\"unv_26456587\"></span> | <a href=\"hide?id=26456587&amp;goto=news\">hide</a> | <a href=\"item?id=26456587\">21&nbsp;comments</a>              </td></tr>\n",
      "      <tr class=\"spacer\" style=\"height:5px\"></tr>\n",
      "                <tr class='athing' id='26457128'>\n",
      "      <td align=\"right\" valign=\"top\" class=\"title\"><span class=\"rank\">4.</span></td>      <td valign=\"top\" class=\"votelinks\"><center><a id='up_26457128' href='vote?id=26457128&amp;how=up&amp;goto=news'><div class='votearrow' title='upvote'></div></a></center></td><td class=\"title\"><a href=\"https://techcrunch.com/2021/03/14/spacex-flies-falcon-9-rocket-booster-for-a-record-9th-time-delivers-3rd-batch-of-starlink-satellites-in-two-weeks/\" class=\"storylink\">SpaceX delivers 3rd batch of Starlink satellites in two weeks</a><span class=\"sitebit comhead\"> (<a href=\"from?site=techcrunch.com\"><span class=\"sitestr\">techcrunch.com</span></a>)</span></td></tr><tr><td colspan=\"2\"></td><td class=\"subtext\">\n",
      "        <span class=\"score\" id=\"score_26457128\">65 points</span> by <a href=\"user?id=scottbucks\" class=\"hnuser\">scottbucks</a> <span class=\"age\"><a href=\"item?id=26457128\">1 hour ago</a></span> <span id=\"unv_26457128\"></span> | <a href=\"hide?id=26457128&amp;goto=news\">hide</a> | <a href=\"item?id=26457128\">67&nbsp;comments</a>              </td></tr>\n",
      "      <tr class=\"spacer\" style=\"height:5px\"></tr>\n",
      "                <tr class='athing' id='26446340'>\n",
      "      <td align=\"right\" valign=\"top\" class=\"title\"><span class=\"rank\">5.</span></td>      <td valign=\"top\" class=\"votelinks\"><center><a id='up_26446340' href='vote?id=26446340&amp;how=up&amp;goto=news'><div class='votearrow' title='upvote'></div></a></center></td><td class=\"title\"><a href=\"https://www.shine.cn/news/metro/2103115812/\" class=\"storylink\">A flexible and durable “electronic” fabric that can be used as a display</a><span class=\"sitebit comhead\"> (<a href=\"from?site=shine.cn\"><span class=\"sitestr\">shine.cn</span></a>)</span></td></tr><tr><td colspan=\"2\"></td><td class=\"subtext\">\n",
      "        <span class=\"score\" id=\"score_26446340\">9 points</span> by <a href=\"user?id=sjreese\" class=\"hnuser\">sjreese</a> <span class=\"age\"><a href=\"item?id=26446340\">2 hours ago</a></span> <span id=\"unv_26446340\"></span> | <a href=\"hide?id=26446340&amp;goto=news\">hide</a> | <a href=\"item?id=26446340\">1&nbsp;comment</a>              </td></tr>\n",
      "      <tr class=\"spacer\" style=\"height:5px\"></tr>\n",
      "                <tr class='athing' id='26453840'>\n",
      "      <td align=\"right\" valign=\"top\" class=\"title\"><span class=\"rank\">6.</span></td>      <td valign=\"top\" class=\"votelinks\"><center><a id='up_26453840' href='vote?id=26453840&amp;how=up&amp;goto=news'><div class='votearrow' title='upvote'></div></a></center></td><td class=\"title\"><a href=\"https://critter.camera/\" class=\"storylink\">Show HN: Critter.Camera – Browser based motion detection and image capture</a><span class=\"sitebit comhead\"> (<a href=\"from?site=critter.camera\"><span class=\"sitestr\">critter.camera</span></a>)</span></td></tr><tr><td colspan=\"2\"></td><td class=\"subtext\">\n",
      "        <span class=\"score\" id=\"score_26453840\">123 points</span> by <a href=\"user?id=jambo135\" class=\"hnuser\">jambo135</a> <span class=\"age\"><a href=\"item?id=26453840\">10 hours ago</a></span> <span id=\"unv_26453840\"></span> | <a href=\"hide?id=26453840&amp;goto=news\">hide</a> | <a href=\"item?id=26453840\">24&nbsp;comments</a>              </td></tr>\n",
      "      <tr class=\"spacer\" style=\"height:5px\"></tr>\n",
      "                <tr class='athing' id='26453970'>\n",
      "      <td align=\"right\" valign=\"top\" class=\"title\"><span class=\"rank\">7.</span></td>      <td valign=\"top\" class=\"votelinks\"><center><a id='up_26453970' href='vote?id=26453970&amp;how=up&amp;goto=news'><div class='votearrow' title='upvote'></div></a></center></td><td class=\"title\"><a href=\"https://amycastor.com/2021/03/14/metakovan-the-mystery-beeple-art-buyer-and-his-nft-defi-scheme/\" class=\"storylink\">Metakovan, the mystery Beeple art buyer, and his NFT/DeFi scheme</a><span class=\"sitebit comhead\"> (<a href=\"from?site=amycastor.com\"><span class=\"sitestr\">amycastor.com</span></a>)</span></td></tr><tr><td colspan=\"2\"></td><td class=\"subtext\">\n",
      "        <span class=\"score\" id=\"score_26453970\">116 points</span> by <a href=\"user?id=davidgerard\" class=\"hnuser\">davidgerard</a> <span class=\"age\"><a href=\"item?id=26453970\">9 hours ago</a></span> <span id=\"unv_26453970\"></span> | <a href=\"hide?id=26453970&amp;goto=news\">hide</a> | <a href=\"item?id=26453970\">135&nbsp;comments</a>              </td></tr>\n",
      "      <tr class=\"spacer\" style=\"height:5px\"></tr>\n",
      "                <tr class='athing' id='26457233'>\n",
      "      <td align=\"right\" valign=\"top\" class=\"title\"><span class=\"rank\">8.</span></td>      <td valign=\"top\" class=\"votelinks\"><center><a id='up_26457233' href='vote?id=26457233&amp;how=up&amp;goto=news'><div class='votearrow' title='upvote'></div></a></center></td><td class=\"title\"><a href=\"https://en.wikipedia.org/wiki/Spaceship_Earth\" class=\"storylink\">Spaceship Earth</a><span class=\"sitebit comhead\"> (<a href=\"from?site=wikipedia.org\"><span class=\"sitestr\">wikipedia.org</span></a>)</span></td></tr><tr><td colspan=\"2\"></td><td class=\"subtext\">\n",
      "        <span class=\"score\" id=\"score_26457233\">37 points</span> by <a href=\"user?id=happy-go-lucky\" class=\"hnuser\">happy-go-lucky</a> <span class=\"age\"><a href=\"item?id=26457233\">1 hour ago</a></span> <span id=\"unv_26457233\"></span> | <a href=\"hide?id=26457233&amp;goto=news\">hide</a> | <a href=\"item?id=26457233\">2&nbsp;comments</a>              </td></tr>\n",
      "      <tr class=\"spacer\" style=\"height:5px\"></tr>\n",
      "                <tr class='athing' id='26456223'>\n",
      "      <td align=\"right\" valign=\"top\" class=\"title\"><span class=\"rank\">9.</span></td>      <td valign=\"top\" class=\"votelinks\"><center><a id='up_26456223' href='vote?id=26456223&amp;how=up&amp;goto=news'><div class='votearrow' title='upvote'></div></a></center></td><td class=\"title\"><a href=\"https://www.nybooks.com/articles/2021/03/25/philosophy-an-art-jonathan-ree-witcraft/\" class=\"storylink\">Is Philosophy an Art?</a><span class=\"sitebit comhead\"> (<a href=\"from?site=nybooks.com\"><span class=\"sitestr\">nybooks.com</span></a>)</span></td></tr><tr><td colspan=\"2\"></td><td class=\"subtext\">\n",
      "        <span class=\"score\" id=\"score_26456223\">33 points</span> by <a href=\"user?id=diodorus\" class=\"hnuser\">diodorus</a> <span class=\"age\"><a href=\"item?id=26456223\">4 hours ago</a></span> <span id=\"unv_26456223\"></span> | <a href=\"hide?id=26456223&amp;goto=news\">hide</a> | <a href=\"item?id=26456223\">23&nbsp;comments</a>              </td></tr>\n",
      "      <tr class=\"spacer\" style=\"height:5px\"></tr>\n",
      "                <tr class='athing' id='26456800'>\n",
      "      <td align=\"right\" valign=\"top\" class=\"title\"><span class=\"rank\">10.</span></td>      <td></td><td class=\"title\"><a href=\"https://angel.co/company/odeko-inc/jobs\" class=\"storylink\" rel=\"nofollow\">Odeko (YC S19) Is Hiring Senior Engineers, Designers, and Marketers</a><span class=\"sitebit comhead\"> (<a href=\"from?site=angel.co\"><span class=\"sitestr\">angel.co</span></a>)</span></td></tr><tr><td colspan=\"2\"></td><td class=\"subtext\">\n",
      "        <span class=\"age\"><a href=\"item?id=26456800\">2 hours ago</a></span> | <a href=\"hide?id=26456800&amp;goto=news\">hide</a>      </td></tr>\n",
      "      <tr class=\"spacer\" style=\"height:5px\"></tr>\n",
      "                <tr class='athing' id='26455956'>\n",
      "      <td align=\"right\" valign=\"top\" class=\"title\"><span class=\"rank\">11.</span></td>      <td valign=\"top\" class=\"votelinks\"><center><a id='up_26455956' href='vote?id=26455956&amp;how=up&amp;goto=news'><div class='votearrow' title='upvote'></div></a></center></td><td class=\"title\"><a href=\"https://www.askamanager.org/2021/03/is-being-salaried-a-scam.html\" class=\"storylink\">Is Being Salaried a Scam?</a><span class=\"sitebit comhead\"> (<a href=\"from?site=askamanager.org\"><span class=\"sitestr\">askamanager.org</span></a>)</span></td></tr><tr><td colspan=\"2\"></td><td class=\"subtext\">\n",
      "        <span class=\"score\" id=\"score_26455956\">77 points</span> by <a href=\"user?id=jasonhansel\" class=\"hnuser\">jasonhansel</a> <span class=\"age\"><a href=\"item?id=26455956\">4 hours ago</a></span> <span id=\"unv_26455956\"></span> | <a href=\"hide?id=26455956&amp;goto=news\">hide</a> | <a href=\"item?id=26455956\">77&nbsp;comments</a>              </td></tr>\n",
      "      <tr class=\"spacer\" style=\"height:5px\"></tr>\n",
      "                <tr class='athing' id='26444259'>\n",
      "      <td align=\"right\" valign=\"top\" class=\"title\"><span class=\"rank\">12.</span></td>      <td valign=\"top\" class=\"votelinks\"><center><a id='up_26444259' href='vote?id=26444259&amp;how=up&amp;goto=news'><div class='votearrow' title='upvote'></div></a></center></td><td class=\"title\"><a href=\"https://github.com/wangyi-fudan/wyHLL\" class=\"storylink\">WyHLL: The most accurate 3-bits HyperLogLog</a><span class=\"sitebit comhead\"> (<a href=\"from?site=github.com/wangyi-fudan\"><span class=\"sitestr\">github.com/wangyi-fudan</span></a>)</span></td></tr><tr><td colspan=\"2\"></td><td class=\"subtext\">\n",
      "        <span class=\"score\" id=\"score_26444259\">35 points</span> by <a href=\"user?id=wangyi_fudan\" class=\"hnuser\">wangyi_fudan</a> <span class=\"age\"><a href=\"item?id=26444259\">5 hours ago</a></span> <span id=\"unv_26444259\"></span> | <a href=\"hide?id=26444259&amp;goto=news\">hide</a> | <a href=\"item?id=26444259\">9&nbsp;comments</a>              </td></tr>\n",
      "      <tr class=\"spacer\" style=\"height:5px\"></tr>\n",
      "                <tr class='athing' id='26456524'>\n",
      "      <td align=\"right\" valign=\"top\" class=\"title\"><span class=\"rank\">13.</span></td>      <td valign=\"top\" class=\"votelinks\"><center><a id='up_26456524' href='vote?id=26456524&amp;how=up&amp;goto=news'><div class='votearrow' title='upvote'></div></a></center></td><td class=\"title\"><a href=\"https://fsfe.org/news/2021/news-20210302-01.html\" class=\"storylink\">Refund of pre-installed Windows: Lenovo must pay 20k euros in damages</a><span class=\"sitebit comhead\"> (<a href=\"from?site=fsfe.org\"><span class=\"sitestr\">fsfe.org</span></a>)</span></td></tr><tr><td colspan=\"2\"></td><td class=\"subtext\">\n",
      "        <span class=\"score\" id=\"score_26456524\">83 points</span> by <a href=\"user?id=rendx\" class=\"hnuser\">rendx</a> <span class=\"age\"><a href=\"item?id=26456524\">3 hours ago</a></span> <span id=\"unv_26456524\"></span> | <a href=\"hide?id=26456524&amp;goto=news\">hide</a> | <a href=\"item?id=26456524\">41&nbsp;comments</a>              </td></tr>\n",
      "      <tr class=\"spacer\" style=\"height:5px\"></tr>\n",
      "                <tr class='athing' id='26444556'>\n",
      "      <td align=\"right\" valign=\"top\" class=\"title\"><span class=\"rank\">14.</span></td>      <td valign=\"top\" class=\"votelinks\"><center><a id='up_26444556' href='vote?id=26444556&amp;how=up&amp;goto=news'><div class='votearrow' title='upvote'></div></a></center></td><td class=\"title\"><a href=\"https://medium.com/@bryce/what-ended-indie-76575463934d\" class=\"storylink\">What Ended Indie</a><span class=\"sitebit comhead\"> (<a href=\"from?site=medium.com/bryce\"><span class=\"sitestr\">medium.com/bryce</span></a>)</span></td></tr><tr><td colspan=\"2\"></td><td class=\"subtext\">\n",
      "        <span class=\"score\" id=\"score_26444556\">65 points</span> by <a href=\"user?id=razin\" class=\"hnuser\">razin</a> <span class=\"age\"><a href=\"item?id=26444556\">9 hours ago</a></span> <span id=\"unv_26444556\"></span> | <a href=\"hide?id=26444556&amp;goto=news\">hide</a> | <a href=\"item?id=26444556\">19&nbsp;comments</a>              </td></tr>\n",
      "      <tr class=\"spacer\" style=\"height:5px\"></tr>\n",
      "                <tr class='athing' id='26456927'>\n",
      "      <td align=\"right\" valign=\"top\" class=\"title\"><span class=\"rank\">15.</span></td>      <td valign=\"top\" class=\"votelinks\"><center><a id='up_26456927' href='vote?id=26456927&amp;how=up&amp;goto=news'><div class='votearrow' title='upvote'></div></a></center></td><td class=\"title\"><a href=\"https://thehill.com/changing-america/sustainability/environment/542928-best-rainbows-on-earth-are-in-hawaii-scientist\" class=\"storylink\">Best rainbows on Earth are in Hawaii, scientist says</a><span class=\"sitebit comhead\"> (<a href=\"from?site=thehill.com\"><span class=\"sitestr\">thehill.com</span></a>)</span></td></tr><tr><td colspan=\"2\"></td><td class=\"subtext\">\n",
      "        <span class=\"score\" id=\"score_26456927\">32 points</span> by <a href=\"user?id=macbookaries\" class=\"hnuser\">macbookaries</a> <span class=\"age\"><a href=\"item?id=26456927\">2 hours ago</a></span> <span id=\"unv_26456927\"></span> | <a href=\"hide?id=26456927&amp;goto=news\">hide</a> | <a href=\"item?id=26456927\">2&nbsp;comments</a>              </td></tr>\n",
      "      <tr class=\"spacer\" style=\"height:5px\"></tr>\n",
      "                <tr class='athing' id='26456682'>\n",
      "      <td align=\"right\" valign=\"top\" class=\"title\"><span class=\"rank\">16.</span></td>      <td valign=\"top\" class=\"votelinks\"><center><a id='up_26456682' href='vote?id=26456682&amp;how=up&amp;goto=news'><div class='votearrow' title='upvote'></div></a></center></td><td class=\"title\"><a href=\"https://www.nature.com/articles/s41598-021-84092-1\" class=\"storylink\">Stay-at-home policy is a case of exception fallacy</a><span class=\"sitebit comhead\"> (<a href=\"from?site=nature.com\"><span class=\"sitestr\">nature.com</span></a>)</span></td></tr><tr><td colspan=\"2\"></td><td class=\"subtext\">\n",
      "        <span class=\"score\" id=\"score_26456682\">42 points</span> by <a href=\"user?id=walterbell\" class=\"hnuser\">walterbell</a> <span class=\"age\"><a href=\"item?id=26456682\">2 hours ago</a></span> <span id=\"unv_26456682\"></span> | <a href=\"hide?id=26456682&amp;goto=news\">hide</a> | <a href=\"item?id=26456682\">45&nbsp;comments</a>              </td></tr>\n",
      "      <tr class=\"spacer\" style=\"height:5px\"></tr>\n",
      "                <tr class='athing' id='26453083'>\n",
      "      <td align=\"right\" valign=\"top\" class=\"title\"><span class=\"rank\">17.</span></td>      <td valign=\"top\" class=\"votelinks\"><center><a id='up_26453083' href='vote?id=26453083&amp;how=up&amp;goto=news'><div class='votearrow' title='upvote'></div></a></center></td><td class=\"title\"><a href=\"https://superwuster.medium.com/liberals-and-conservatives-are-both-totally-wrong-about-section-230-11faacc4b117\" class=\"storylink\">Repealing Section 230 won’t do what anyone wants</a><span class=\"sitebit comhead\"> (<a href=\"from?site=superwuster.medium.com\"><span class=\"sitestr\">superwuster.medium.com</span></a>)</span></td></tr><tr><td colspan=\"2\"></td><td class=\"subtext\">\n",
      "        <span class=\"score\" id=\"score_26453083\">149 points</span> by <a href=\"user?id=spzx\" class=\"hnuser\">spzx</a> <span class=\"age\"><a href=\"item?id=26453083\">13 hours ago</a></span> <span id=\"unv_26453083\"></span> | <a href=\"hide?id=26453083&amp;goto=news\">hide</a> | <a href=\"item?id=26453083\">179&nbsp;comments</a>              </td></tr>\n",
      "      <tr class=\"spacer\" style=\"height:5px\"></tr>\n",
      "                <tr class='athing' id='26452504'>\n",
      "      <td align=\"right\" valign=\"top\" class=\"title\"><span class=\"rank\">18.</span></td>      <td valign=\"top\" class=\"votelinks\"><center><a id='up_26452504' href='vote?id=26452504&amp;how=up&amp;goto=news'><div class='votearrow' title='upvote'></div></a></center></td><td class=\"title\"><a href=\"https://matthewearl.github.io/2021/03/06/mars2020-reproject/\" class=\"storylink\">Reprojecting the Perseverance landing footage onto satellite imagery</a><span class=\"sitebit comhead\"> (<a href=\"from?site=matthewearl.github.io\"><span class=\"sitestr\">matthewearl.github.io</span></a>)</span></td></tr><tr><td colspan=\"2\"></td><td class=\"subtext\">\n",
      "        <span class=\"score\" id=\"score_26452504\">535 points</span> by <a href=\"user?id=bmease\" class=\"hnuser\">bmease</a> <span class=\"age\"><a href=\"item?id=26452504\">16 hours ago</a></span> <span id=\"unv_26452504\"></span> | <a href=\"hide?id=26452504&amp;goto=news\">hide</a> | <a href=\"item?id=26452504\">31&nbsp;comments</a>              </td></tr>\n",
      "      <tr class=\"spacer\" style=\"height:5px\"></tr>\n",
      "                <tr class='athing' id='26444567'>\n",
      "      <td align=\"right\" valign=\"top\" class=\"title\"><span class=\"rank\">19.</span></td>      <td valign=\"top\" class=\"votelinks\"><center><a id='up_26444567' href='vote?id=26444567&amp;how=up&amp;goto=news'><div class='votearrow' title='upvote'></div></a></center></td><td class=\"title\"><a href=\"https://concurrencyfreaks.blogspot.com/2021/03/the-4-laws-of-durability.html\" class=\"storylink\">The Laws of Durability</a><span class=\"sitebit comhead\"> (<a href=\"from?site=concurrencyfreaks.blogspot.com\"><span class=\"sitestr\">concurrencyfreaks.blogspot.com</span></a>)</span></td></tr><tr><td colspan=\"2\"></td><td class=\"subtext\">\n",
      "        <span class=\"score\" id=\"score_26444567\">32 points</span> by <a href=\"user?id=ingve\" class=\"hnuser\">ingve</a> <span class=\"age\"><a href=\"item?id=26444567\">7 hours ago</a></span> <span id=\"unv_26444567\"></span> | <a href=\"hide?id=26444567&amp;goto=news\">hide</a> | <a href=\"item?id=26444567\">discuss</a>              </td></tr>\n",
      "      <tr class=\"spacer\" style=\"height:5px\"></tr>\n",
      "                <tr class='athing' id='26456847'>\n",
      "      <td align=\"right\" valign=\"top\" class=\"title\"><span class=\"rank\">20.</span></td>      <td valign=\"top\" class=\"votelinks\"><center><a id='up_26456847' href='vote?id=26456847&amp;how=up&amp;goto=news'><div class='votearrow' title='upvote'></div></a></center></td><td class=\"title\"><a href=\"item?id=26456847\" class=\"storylink\">Ask HN: How to think about crypto lending?</a></td></tr><tr><td colspan=\"2\"></td><td class=\"subtext\">\n",
      "        <span class=\"score\" id=\"score_26456847\">32 points</span> by <a href=\"user?id=samvher\" class=\"hnuser\">samvher</a> <span class=\"age\"><a href=\"item?id=26456847\">2 hours ago</a></span> <span id=\"unv_26456847\"></span> | <a href=\"hide?id=26456847&amp;goto=news\">hide</a> | <a href=\"item?id=26456847\">21&nbsp;comments</a>              </td></tr>\n",
      "      <tr class=\"spacer\" style=\"height:5px\"></tr>\n",
      "                <tr class='athing' id='26457047'>\n",
      "      <td align=\"right\" valign=\"top\" class=\"title\"><span class=\"rank\">21.</span></td>      <td valign=\"top\" class=\"votelinks\"><center><a id='up_26457047' href='vote?id=26457047&amp;how=up&amp;goto=news'><div class='votearrow' title='upvote'></div></a></center></td><td class=\"title\"><a href=\"https://www.trtworld.com/magazine/israel-s-autonomous-robo-snipers-and-suicide-drones-raise-ethical-dilemma-44557\" class=\"storylink\">Israel's autonomous 'robo-snipers' and suicide drones raise ethical dilemma</a><span class=\"sitebit comhead\"> (<a href=\"from?site=trtworld.com\"><span class=\"sitestr\">trtworld.com</span></a>)</span></td></tr><tr><td colspan=\"2\"></td><td class=\"subtext\">\n",
      "        <span class=\"score\" id=\"score_26457047\">84 points</span> by <a href=\"user?id=YeGoblynQueenne\" class=\"hnuser\">YeGoblynQueenne</a> <span class=\"age\"><a href=\"item?id=26457047\">2 hours ago</a></span> <span id=\"unv_26457047\"></span> | <a href=\"hide?id=26457047&amp;goto=news\">hide</a> | <a href=\"item?id=26457047\">120&nbsp;comments</a>              </td></tr>\n",
      "      <tr class=\"spacer\" style=\"height:5px\"></tr>\n",
      "                <tr class='athing' id='26454520'>\n",
      "      <td align=\"right\" valign=\"top\" class=\"title\"><span class=\"rank\">22.</span></td>      <td valign=\"top\" class=\"votelinks\"><center><a id='up_26454520' href='vote?id=26454520&amp;how=up&amp;goto=news'><div class='votearrow' title='upvote'></div></a></center></td><td class=\"title\"><a href=\"https://japantoday.com/category/tech/hit-japanese-app-crabhouse-forced-to-change-name-on-ios\" class=\"storylink\">Hit Japanese app Crabhouse forced to change name on iOS</a><span class=\"sitebit comhead\"> (<a href=\"from?site=japantoday.com\"><span class=\"sitestr\">japantoday.com</span></a>)</span></td></tr><tr><td colspan=\"2\"></td><td class=\"subtext\">\n",
      "        <span class=\"score\" id=\"score_26454520\">196 points</span> by <a href=\"user?id=edandersen\" class=\"hnuser\">edandersen</a> <span class=\"age\"><a href=\"item?id=26454520\">8 hours ago</a></span> <span id=\"unv_26454520\"></span> | <a href=\"hide?id=26454520&amp;goto=news\">hide</a> | <a href=\"item?id=26454520\">90&nbsp;comments</a>              </td></tr>\n",
      "      <tr class=\"spacer\" style=\"height:5px\"></tr>\n",
      "                <tr class='athing' id='26457916'>\n",
      "      <td align=\"right\" valign=\"top\" class=\"title\"><span class=\"rank\">23.</span></td>      <td valign=\"top\" class=\"votelinks\"><center><a id='up_26457916' href='vote?id=26457916&amp;how=up&amp;goto=news'><div class='votearrow' title='upvote'></div></a></center></td><td class=\"title\"><a href=\"https://www.bloomberg.com/news/articles/2021-03-09/bitcoin-has-zero-intrinsic-value-some-people-are-ok-with-that\" class=\"storylink\" rel=\"nofollow\">Bitcoin Has Zero Intrinsic Value. Some People Are OK with That</a><span class=\"sitebit comhead\"> (<a href=\"from?site=bloomberg.com\"><span class=\"sitestr\">bloomberg.com</span></a>)</span></td></tr><tr><td colspan=\"2\"></td><td class=\"subtext\">\n",
      "        <span class=\"score\" id=\"score_26457916\">9 points</span> by <a href=\"user?id=gbourne\" class=\"hnuser\">gbourne</a> <span class=\"age\"><a href=\"item?id=26457916\">32 minutes ago</a></span> <span id=\"unv_26457916\"></span> | <a href=\"hide?id=26457916&amp;goto=news\">hide</a> | <a href=\"item?id=26457916\">8&nbsp;comments</a>              </td></tr>\n",
      "      <tr class=\"spacer\" style=\"height:5px\"></tr>\n",
      "                <tr class='athing' id='26456684'>\n",
      "      <td align=\"right\" valign=\"top\" class=\"title\"><span class=\"rank\">24.</span></td>      <td valign=\"top\" class=\"votelinks\"><center><a id='up_26456684' href='vote?id=26456684&amp;how=up&amp;goto=news'><div class='votearrow' title='upvote'></div></a></center></td><td class=\"title\"><a href=\"https://www.hanshq.net/zip2.html\" class=\"storylink\">Shrink, Reduce, and Implode: The Legacy Zip Compression Methods</a><span class=\"sitebit comhead\"> (<a href=\"from?site=hanshq.net\"><span class=\"sitestr\">hanshq.net</span></a>)</span></td></tr><tr><td colspan=\"2\"></td><td class=\"subtext\">\n",
      "        <span class=\"score\" id=\"score_26456684\">22 points</span> by <a href=\"user?id=JoshTriplett\" class=\"hnuser\">JoshTriplett</a> <span class=\"age\"><a href=\"item?id=26456684\">2 hours ago</a></span> <span id=\"unv_26456684\"></span> | <a href=\"hide?id=26456684&amp;goto=news\">hide</a> | <a href=\"item?id=26456684\">discuss</a>              </td></tr>\n",
      "      <tr class=\"spacer\" style=\"height:5px\"></tr>\n",
      "                <tr class='athing' id='26444252'>\n",
      "      <td align=\"right\" valign=\"top\" class=\"title\"><span class=\"rank\">25.</span></td>      <td valign=\"top\" class=\"votelinks\"><center><a id='up_26444252' href='vote?id=26444252&amp;how=up&amp;goto=news'><div class='votearrow' title='upvote'></div></a></center></td><td class=\"title\"><a href=\"https://blog.honzamrazek.cz/2017/10/diy-through-hole-plating-of-pcbs/\" class=\"storylink\">DIY Through Hole Plating of PCBs (2017)</a><span class=\"sitebit comhead\"> (<a href=\"from?site=honzamrazek.cz\"><span class=\"sitestr\">honzamrazek.cz</span></a>)</span></td></tr><tr><td colspan=\"2\"></td><td class=\"subtext\">\n",
      "        <span class=\"score\" id=\"score_26444252\">42 points</span> by <a href=\"user?id=todsacerdoti\" class=\"hnuser\">todsacerdoti</a> <span class=\"age\"><a href=\"item?id=26444252\">8 hours ago</a></span> <span id=\"unv_26444252\"></span> | <a href=\"hide?id=26444252&amp;goto=news\">hide</a> | <a href=\"item?id=26444252\">19&nbsp;comments</a>              </td></tr>\n",
      "      <tr class=\"spacer\" style=\"height:5px\"></tr>\n",
      "                <tr class='athing' id='26448526'>\n",
      "      <td align=\"right\" valign=\"top\" class=\"title\"><span class=\"rank\">26.</span></td>      <td valign=\"top\" class=\"votelinks\"><center><a id='up_26448526' href='vote?id=26448526&amp;how=up&amp;goto=news'><div class='votearrow' title='upvote'></div></a></center></td><td class=\"title\"><a href=\"https://www.spiegel.de/international/business/whatsapp-ceo-on-the-controversy-surrounding-proposed-german-communications-laws-a-2e6f4c52-4a39-4117-8199-1606e1f3ac87\" class=\"storylink\">WhatsApp CEO on the controversy surrounding proposed German communications laws</a><span class=\"sitebit comhead\"> (<a href=\"from?site=spiegel.de\"><span class=\"sitestr\">spiegel.de</span></a>)</span></td></tr><tr><td colspan=\"2\"></td><td class=\"subtext\">\n",
      "        <span class=\"score\" id=\"score_26448526\">76 points</span> by <a href=\"user?id=seesawtron\" class=\"hnuser\">seesawtron</a> <span class=\"age\"><a href=\"item?id=26448526\">14 hours ago</a></span> <span id=\"unv_26448526\"></span> | <a href=\"hide?id=26448526&amp;goto=news\">hide</a> | <a href=\"item?id=26448526\">83&nbsp;comments</a>              </td></tr>\n",
      "      <tr class=\"spacer\" style=\"height:5px\"></tr>\n",
      "                <tr class='athing' id='26444591'>\n",
      "      <td align=\"right\" valign=\"top\" class=\"title\"><span class=\"rank\">27.</span></td>      <td valign=\"top\" class=\"votelinks\"><center><a id='up_26444591' href='vote?id=26444591&amp;how=up&amp;goto=news'><div class='votearrow' title='upvote'></div></a></center></td><td class=\"title\"><a href=\"https://www.atlasobscura.com/articles/cromwell-cookbook\" class=\"storylink\">Opponents of Oliver Cromwell published his family recipes</a><span class=\"sitebit comhead\"> (<a href=\"from?site=atlasobscura.com\"><span class=\"sitestr\">atlasobscura.com</span></a>)</span></td></tr><tr><td colspan=\"2\"></td><td class=\"subtext\">\n",
      "        <span class=\"score\" id=\"score_26444591\">59 points</span> by <a href=\"user?id=pepys\" class=\"hnuser\">pepys</a> <span class=\"age\"><a href=\"item?id=26444591\">13 hours ago</a></span> <span id=\"unv_26444591\"></span> | <a href=\"hide?id=26444591&amp;goto=news\">hide</a> | <a href=\"item?id=26444591\">69&nbsp;comments</a>              </td></tr>\n",
      "      <tr class=\"spacer\" style=\"height:5px\"></tr>\n",
      "                <tr class='athing' id='26456550'>\n",
      "      <td align=\"right\" valign=\"top\" class=\"title\"><span class=\"rank\">28.</span></td>      <td valign=\"top\" class=\"votelinks\"><center><a id='up_26456550' href='vote?id=26456550&amp;how=up&amp;goto=news'><div class='votearrow' title='upvote'></div></a></center></td><td class=\"title\"><a href=\"https://m.dw.com/en/nuclear-climate-mycle-schneider-renewables-fukushima/a-56712368\" class=\"storylink\">An argument that nuclear power makes the climate crisis worse</a><span class=\"sitebit comhead\"> (<a href=\"from?site=dw.com\"><span class=\"sitestr\">dw.com</span></a>)</span></td></tr><tr><td colspan=\"2\"></td><td class=\"subtext\">\n",
      "        <span class=\"score\" id=\"score_26456550\">19 points</span> by <a href=\"user?id=stadia42\" class=\"hnuser\">stadia42</a> <span class=\"age\"><a href=\"item?id=26456550\">3 hours ago</a></span> <span id=\"unv_26456550\"></span> | <a href=\"hide?id=26456550&amp;goto=news\">hide</a> | <a href=\"item?id=26456550\">23&nbsp;comments</a>              </td></tr>\n",
      "      <tr class=\"spacer\" style=\"height:5px\"></tr>\n",
      "                <tr class='athing' id='26428831'>\n",
      "      <td align=\"right\" valign=\"top\" class=\"title\"><span class=\"rank\">29.</span></td>      <td valign=\"top\" class=\"votelinks\"><center><a id='up_26428831' href='vote?id=26428831&amp;how=up&amp;goto=news'><div class='votearrow' title='upvote'></div></a></center></td><td class=\"title\"><a href=\"https://arxiv.org/abs/1903.11215\" class=\"storylink\">Neural networks for geophysicists and seismic data interpretation (2019)</a><span class=\"sitebit comhead\"> (<a href=\"from?site=arxiv.org\"><span class=\"sitestr\">arxiv.org</span></a>)</span></td></tr><tr><td colspan=\"2\"></td><td class=\"subtext\">\n",
      "        <span class=\"score\" id=\"score_26428831\">42 points</span> by <a href=\"user?id=Phithagoras\" class=\"hnuser\">Phithagoras</a> <span class=\"age\"><a href=\"item?id=26428831\">11 hours ago</a></span> <span id=\"unv_26428831\"></span> | <a href=\"hide?id=26428831&amp;goto=news\">hide</a> | <a href=\"item?id=26428831\">2&nbsp;comments</a>              </td></tr>\n",
      "      <tr class=\"spacer\" style=\"height:5px\"></tr>\n",
      "                <tr class='athing' id='26458069'>\n",
      "      <td align=\"right\" valign=\"top\" class=\"title\"><span class=\"rank\">30.</span></td>      <td valign=\"top\" class=\"votelinks\"><center><a id='up_26458069' href='vote?id=26458069&amp;how=up&amp;goto=news'><div class='votearrow' title='upvote'></div></a></center></td><td class=\"title\"><a href=\"https://www.trtworld.com/magazine/war-games-suggest-the-us-will-lose-fast-if-it-confronts-china-44960\" class=\"storylink\">War games suggest the US will lose fast if it confronts China</a><span class=\"sitebit comhead\"> (<a href=\"from?site=trtworld.com\"><span class=\"sitestr\">trtworld.com</span></a>)</span></td></tr><tr><td colspan=\"2\"></td><td class=\"subtext\">\n",
      "        <span class=\"score\" id=\"score_26458069\">10 points</span> by <a href=\"user?id=ripvanwinkle\" class=\"hnuser\">ripvanwinkle</a> <span class=\"age\"><a href=\"item?id=26458069\">17 minutes ago</a></span> <span id=\"unv_26458069\"></span> | <a href=\"hide?id=26458069&amp;goto=news\">hide</a> | <a href=\"item?id=26458069\">4&nbsp;comments</a>              </td></tr>\n",
      "      <tr class=\"spacer\" style=\"height:5px\"></tr>\n",
      "            <tr class=\"morespace\" style=\"height:10px\"></tr><tr><td colspan=\"2\"></td><td class=\"title\"><a href=\"news?p=2\" class=\"morelink\" rel=\"next\">More</a></td></tr>\n",
      "  </table>\n",
      "</td></tr>\n",
      "<tr><td><img src=\"s.gif\" height=\"10\" width=\"0\"><table width=\"100%\" cellspacing=\"0\" cellpadding=\"1\"><tr><td bgcolor=\"#ff6600\"></td></tr></table><br><center><a href=\"https://www.ycombinator.com/apply/\">\n",
      "        Applications are open for YC Summer 2021\n",
      "      </a></center><br><center><span class=\"yclinks\"><a href=\"newsguidelines.html\">Guidelines</a>\n",
      "        | <a href=\"newsfaq.html\">FAQ</a>\n",
      "        | <a href=\"lists\">Lists</a>\n",
      "        | <a href=\"https://github.com/HackerNews/API\">API</a>\n",
      "        | <a href=\"security.html\">Security</a>\n",
      "        | <a href=\"http://www.ycombinator.com/legal/\">Legal</a>\n",
      "        | <a href=\"http://www.ycombinator.com/apply/\">Apply to YC</a>\n",
      "        | <a href=\"mailto:hn@ycombinator.com\">Contact</a></span><br><br><form method=\"get\" action=\"//hn.algolia.com/\">Search:\n",
      "          <input type=\"text\" name=\"q\" value=\"\" size=\"17\" autocorrect=\"off\" spellcheck=\"false\" autocapitalize=\"off\" autocomplete=\"false\"></form>\n",
      "            </center></td></tr>\n",
      "      </table></center></body><script type='text/javascript' src='hn.js?EYu5zenGHAD8KsmXPGxH'></script></html>\n",
      "\n"
     ]
    }
   ],
   "source": [
    "import requests\n",
    "\n",
    "# Fetch a web page\n",
    "r = requests.get(\"https://news.ycombinator.com\")\n",
    "print(r.text)"
   ]
  },
  {
   "cell_type": "code",
   "execution_count": 5,
   "metadata": {},
   "outputs": [
    {
     "name": "stdout",
     "output_type": "stream",
     "text": [
      "\n",
      "        \n",
      "          \n",
      "        Hacker News\n",
      "        \n",
      "                  Hacker News\n",
      "              new | past | comments | ask | show | jobs | submit            \n",
      "                              login\n",
      "                          \n",
      "              \n",
      "\n",
      "              \n",
      "      1.      security.txt (securitytxt.org)\n",
      "        357 points by tosh 5 hours ago  | hide | 75&nbsp;comments              \n",
      "      \n",
      "                \n",
      "      2.      EBPFSnitch: An eBPF based Linux Application Firewall (github.com/harporoeder)\n",
      "        188 points by harporoeder 6 hours ago  | hide | 47&nbsp;comments              \n",
      "      \n",
      "                \n",
      "      3.      Atari 800XL PCB Remake (ezcontents.org)\n",
      "        35 points by mariuz 3 hours ago  | hide | 21&nbsp;comments              \n",
      "      \n",
      "                \n",
      "      4.      SpaceX delivers 3rd batch of Starlink satellites in two weeks (techcrunch.com)\n",
      "        65 points by scottbucks 1 hour ago  | hide | 67&nbsp;comments              \n",
      "      \n",
      "                \n",
      "      5.      A flexible and durable “electronic” fabric that can be used as a display (shine.cn)\n",
      "        9 points by sjreese 2 hours ago  | hide | 1&nbsp;comment              \n",
      "      \n",
      "                \n",
      "      6.      Show HN: Critter.Camera – Browser based motion detection and image capture (critter.camera)\n",
      "        123 points by jambo135 10 hours ago  | hide | 24&nbsp;comments              \n",
      "      \n",
      "                \n",
      "      7.      Metakovan, the mystery Beeple art buyer, and his NFT/DeFi scheme (amycastor.com)\n",
      "        116 points by davidgerard 9 hours ago  | hide | 135&nbsp;comments              \n",
      "      \n",
      "                \n",
      "      8.      Spaceship Earth (wikipedia.org)\n",
      "        37 points by happy-go-lucky 1 hour ago  | hide | 2&nbsp;comments              \n",
      "      \n",
      "                \n",
      "      9.      Is Philosophy an Art? (nybooks.com)\n",
      "        33 points by diodorus 4 hours ago  | hide | 23&nbsp;comments              \n",
      "      \n",
      "                \n",
      "      10.      Odeko (YC S19) Is Hiring Senior Engineers, Designers, and Marketers (angel.co)\n",
      "        2 hours ago | hide      \n",
      "      \n",
      "                \n",
      "      11.      Is Being Salaried a Scam? (askamanager.org)\n",
      "        77 points by jasonhansel 4 hours ago  | hide | 77&nbsp;comments              \n",
      "      \n",
      "                \n",
      "      12.      WyHLL: The most accurate 3-bits HyperLogLog (github.com/wangyi-fudan)\n",
      "        35 points by wangyi_fudan 5 hours ago  | hide | 9&nbsp;comments              \n",
      "      \n",
      "                \n",
      "      13.      Refund of pre-installed Windows: Lenovo must pay 20k euros in damages (fsfe.org)\n",
      "        83 points by rendx 3 hours ago  | hide | 41&nbsp;comments              \n",
      "      \n",
      "                \n",
      "      14.      What Ended Indie (medium.com/bryce)\n",
      "        65 points by razin 9 hours ago  | hide | 19&nbsp;comments              \n",
      "      \n",
      "                \n",
      "      15.      Best rainbows on Earth are in Hawaii, scientist says (thehill.com)\n",
      "        32 points by macbookaries 2 hours ago  | hide | 2&nbsp;comments              \n",
      "      \n",
      "                \n",
      "      16.      Stay-at-home policy is a case of exception fallacy (nature.com)\n",
      "        42 points by walterbell 2 hours ago  | hide | 45&nbsp;comments              \n",
      "      \n",
      "                \n",
      "      17.      Repealing Section 230 won’t do what anyone wants (superwuster.medium.com)\n",
      "        149 points by spzx 13 hours ago  | hide | 179&nbsp;comments              \n",
      "      \n",
      "                \n",
      "      18.      Reprojecting the Perseverance landing footage onto satellite imagery (matthewearl.github.io)\n",
      "        535 points by bmease 16 hours ago  | hide | 31&nbsp;comments              \n",
      "      \n",
      "                \n",
      "      19.      The Laws of Durability (concurrencyfreaks.blogspot.com)\n",
      "        32 points by ingve 7 hours ago  | hide | discuss              \n",
      "      \n",
      "                \n",
      "      20.      Ask HN: How to think about crypto lending?\n",
      "        32 points by samvher 2 hours ago  | hide | 21&nbsp;comments              \n",
      "      \n",
      "                \n",
      "      21.      Israel's autonomous 'robo-snipers' and suicide drones raise ethical dilemma (trtworld.com)\n",
      "        84 points by YeGoblynQueenne 2 hours ago  | hide | 120&nbsp;comments              \n",
      "      \n",
      "                \n",
      "      22.      Hit Japanese app Crabhouse forced to change name on iOS (japantoday.com)\n",
      "        196 points by edandersen 8 hours ago  | hide | 90&nbsp;comments              \n",
      "      \n",
      "                \n",
      "      23.      Bitcoin Has Zero Intrinsic Value. Some People Are OK with That (bloomberg.com)\n",
      "        9 points by gbourne 32 minutes ago  | hide | 8&nbsp;comments              \n",
      "      \n",
      "                \n",
      "      24.      Shrink, Reduce, and Implode: The Legacy Zip Compression Methods (hanshq.net)\n",
      "        22 points by JoshTriplett 2 hours ago  | hide | discuss              \n",
      "      \n",
      "                \n",
      "      25.      DIY Through Hole Plating of PCBs (2017) (honzamrazek.cz)\n",
      "        42 points by todsacerdoti 8 hours ago  | hide | 19&nbsp;comments              \n",
      "      \n",
      "                \n",
      "      26.      WhatsApp CEO on the controversy surrounding proposed German communications laws (spiegel.de)\n",
      "        76 points by seesawtron 14 hours ago  | hide | 83&nbsp;comments              \n",
      "      \n",
      "                \n",
      "      27.      Opponents of Oliver Cromwell published his family recipes (atlasobscura.com)\n",
      "        59 points by pepys 13 hours ago  | hide | 69&nbsp;comments              \n",
      "      \n",
      "                \n",
      "      28.      An argument that nuclear power makes the climate crisis worse (dw.com)\n",
      "        19 points by stadia42 3 hours ago  | hide | 23&nbsp;comments              \n",
      "      \n",
      "                \n",
      "      29.      Neural networks for geophysicists and seismic data interpretation (2019) (arxiv.org)\n",
      "        42 points by Phithagoras 11 hours ago  | hide | 2&nbsp;comments              \n",
      "      \n",
      "                \n",
      "      30.      War games suggest the US will lose fast if it confronts China (trtworld.com)\n",
      "        10 points by ripvanwinkle 17 minutes ago  | hide | 4&nbsp;comments              \n",
      "      \n",
      "            More\n",
      "  \n",
      "\n",
      "\n",
      "        Applications are open for YC Summer 2021\n",
      "      Guidelines\n",
      "        | FAQ\n",
      "        | Lists\n",
      "        | API\n",
      "        | Security\n",
      "        | Legal\n",
      "        | Apply to YC\n",
      "        | ContactSearch:\n",
      "          \n",
      "            \n",
      "      \n",
      "\n"
     ]
    }
   ],
   "source": [
    "import re\n",
    "\n",
    "# Remove HTML tags using RegEx\n",
    "pattern = re.compile(r'<.*?>')  # tags look like <...>\n",
    "print(pattern.sub('', r.text))  # replace them with blank"
   ]
  },
  {
   "cell_type": "code",
   "execution_count": 6,
   "metadata": {},
   "outputs": [
    {
     "name": "stdout",
     "output_type": "stream",
     "text": [
      "\n",
      "        \n",
      "          \n",
      "        Hacker News\n",
      "        \n",
      "                  Hacker News\n",
      "              new | past | comments | ask | show | jobs | submit            \n",
      "                              login\n",
      "                          \n",
      "              \n",
      "\n",
      "              \n",
      "      1.      security.txt (securitytxt.org)\n",
      "        357 points by tosh 5 hours ago  | hide | 75 comments              \n",
      "      \n",
      "                \n",
      "      2.      EBPFSnitch: An eBPF based Linux Application Firewall (github.com/harporoeder)\n",
      "        188 points by harporoeder 6 hours ago  | hide | 47 comments              \n",
      "      \n",
      "                \n",
      "      3.      Atari 800XL PCB Remake (ezcontents.org)\n",
      "        35 points by mariuz 3 hours ago  | hide | 21 comments              \n",
      "      \n",
      "                \n",
      "      4.      SpaceX delivers 3rd batch of Starlink satellites in two weeks (techcrunch.com)\n",
      "        65 points by scottbucks 1 hour ago  | hide | 67 comments              \n",
      "      \n",
      "                \n",
      "      5.      A flexible and durable “electronic” fabric that can be used as a display (shine.cn)\n",
      "        9 points by sjreese 2 hours ago  | hide | 1 comment              \n",
      "      \n",
      "                \n",
      "      6.      Show HN: Critter.Camera – Browser based motion detection and image capture (critter.camera)\n",
      "        123 points by jambo135 10 hours ago  | hide | 24 comments              \n",
      "      \n",
      "                \n",
      "      7.      Metakovan, the mystery Beeple art buyer, and his NFT/DeFi scheme (amycastor.com)\n",
      "        116 points by davidgerard 9 hours ago  | hide | 135 comments              \n",
      "      \n",
      "                \n",
      "      8.      Spaceship Earth (wikipedia.org)\n",
      "        37 points by happy-go-lucky 1 hour ago  | hide | 2 comments              \n",
      "      \n",
      "                \n",
      "      9.      Is Philosophy an Art? (nybooks.com)\n",
      "        33 points by diodorus 4 hours ago  | hide | 23 comments              \n",
      "      \n",
      "                \n",
      "      10.      Odeko (YC S19) Is Hiring Senior Engineers, Designers, and Marketers (angel.co)\n",
      "        2 hours ago | hide      \n",
      "      \n",
      "                \n",
      "      11.      Is Being Salaried a Scam? (askamanager.org)\n",
      "        77 points by jasonhansel 4 hours ago  | hide | 77 comments              \n",
      "      \n",
      "                \n",
      "      12.      WyHLL: The most accurate 3-bits HyperLogLog (github.com/wangyi-fudan)\n",
      "        35 points by wangyi_fudan 5 hours ago  | hide | 9 comments              \n",
      "      \n",
      "                \n",
      "      13.      Refund of pre-installed Windows: Lenovo must pay 20k euros in damages (fsfe.org)\n",
      "        83 points by rendx 3 hours ago  | hide | 41 comments              \n",
      "      \n",
      "                \n",
      "      14.      What Ended Indie (medium.com/bryce)\n",
      "        65 points by razin 9 hours ago  | hide | 19 comments              \n",
      "      \n",
      "                \n",
      "      15.      Best rainbows on Earth are in Hawaii, scientist says (thehill.com)\n",
      "        32 points by macbookaries 2 hours ago  | hide | 2 comments              \n",
      "      \n",
      "                \n",
      "      16.      Stay-at-home policy is a case of exception fallacy (nature.com)\n",
      "        42 points by walterbell 2 hours ago  | hide | 45 comments              \n",
      "      \n",
      "                \n",
      "      17.      Repealing Section 230 won’t do what anyone wants (superwuster.medium.com)\n",
      "        149 points by spzx 13 hours ago  | hide | 179 comments              \n",
      "      \n",
      "                \n",
      "      18.      Reprojecting the Perseverance landing footage onto satellite imagery (matthewearl.github.io)\n",
      "        535 points by bmease 16 hours ago  | hide | 31 comments              \n",
      "      \n",
      "                \n",
      "      19.      The Laws of Durability (concurrencyfreaks.blogspot.com)\n",
      "        32 points by ingve 7 hours ago  | hide | discuss              \n",
      "      \n",
      "                \n",
      "      20.      Ask HN: How to think about crypto lending?\n",
      "        32 points by samvher 2 hours ago  | hide | 21 comments              \n",
      "      \n",
      "                \n",
      "      21.      Israel's autonomous 'robo-snipers' and suicide drones raise ethical dilemma (trtworld.com)\n",
      "        84 points by YeGoblynQueenne 2 hours ago  | hide | 120 comments              \n",
      "      \n",
      "                \n",
      "      22.      Hit Japanese app Crabhouse forced to change name on iOS (japantoday.com)\n",
      "        196 points by edandersen 8 hours ago  | hide | 90 comments              \n",
      "      \n",
      "                \n",
      "      23.      Bitcoin Has Zero Intrinsic Value. Some People Are OK with That (bloomberg.com)\n",
      "        9 points by gbourne 32 minutes ago  | hide | 8 comments              \n",
      "      \n",
      "                \n",
      "      24.      Shrink, Reduce, and Implode: The Legacy Zip Compression Methods (hanshq.net)\n",
      "        22 points by JoshTriplett 2 hours ago  | hide | discuss              \n",
      "      \n",
      "                \n",
      "      25.      DIY Through Hole Plating of PCBs (2017) (honzamrazek.cz)\n",
      "        42 points by todsacerdoti 8 hours ago  | hide | 19 comments              \n",
      "      \n",
      "                \n",
      "      26.      WhatsApp CEO on the controversy surrounding proposed German communications laws (spiegel.de)\n",
      "        76 points by seesawtron 14 hours ago  | hide | 83 comments              \n",
      "      \n",
      "                \n",
      "      27.      Opponents of Oliver Cromwell published his family recipes (atlasobscura.com)\n",
      "        59 points by pepys 13 hours ago  | hide | 69 comments              \n",
      "      \n",
      "                \n",
      "      28.      An argument that nuclear power makes the climate crisis worse (dw.com)\n",
      "        19 points by stadia42 3 hours ago  | hide | 23 comments              \n",
      "      \n",
      "                \n",
      "      29.      Neural networks for geophysicists and seismic data interpretation (2019) (arxiv.org)\n",
      "        42 points by Phithagoras 11 hours ago  | hide | 2 comments              \n",
      "      \n",
      "                \n",
      "      30.      War games suggest the US will lose fast if it confronts China (trtworld.com)\n",
      "        10 points by ripvanwinkle 17 minutes ago  | hide | 4 comments              \n",
      "      \n",
      "            More\n",
      "  \n",
      "\n",
      "\n",
      "        Applications are open for YC Summer 2021\n",
      "      Guidelines\n",
      "        | FAQ\n",
      "        | Lists\n",
      "        | API\n",
      "        | Security\n",
      "        | Legal\n",
      "        | Apply to YC\n",
      "        | ContactSearch:\n",
      "          \n",
      "            \n",
      "      \n",
      "\n"
     ]
    }
   ],
   "source": [
    "from bs4 import BeautifulSoup\n",
    "\n",
    "# Remove HTML tags using Beautiful Soup library\n",
    "soup = BeautifulSoup(r.text, \"html5lib\")\n",
    "print(soup.get_text())"
   ]
  },
  {
   "cell_type": "code",
   "execution_count": 7,
   "metadata": {
    "scrolled": true
   },
   "outputs": [
    {
     "data": {
      "text/plain": [
       "<tr class=\"athing\" id=\"26455493\">\n",
       "      <td align=\"right\" class=\"title\" valign=\"top\"><span class=\"rank\">1.</span></td>      <td class=\"votelinks\" valign=\"top\"><center><a href=\"vote?id=26455493&amp;how=up&amp;goto=news\" id=\"up_26455493\"><div class=\"votearrow\" title=\"upvote\"></div></a></center></td><td class=\"title\"><a class=\"storylink\" href=\"https://securitytxt.org/\">security.txt</a><span class=\"sitebit comhead\"> (<a href=\"from?site=securitytxt.org\"><span class=\"sitestr\">securitytxt.org</span></a>)</span></td></tr>"
      ]
     },
     "execution_count": 7,
     "metadata": {},
     "output_type": "execute_result"
    }
   ],
   "source": [
    "# Find all articles\n",
    "summaries = soup.find_all(\"tr\", class_=\"athing\")\n",
    "summaries[0]"
   ]
  },
  {
   "cell_type": "code",
   "execution_count": 8,
   "metadata": {},
   "outputs": [
    {
     "data": {
      "text/plain": [
       "'security.txt'"
      ]
     },
     "execution_count": 8,
     "metadata": {},
     "output_type": "execute_result"
    }
   ],
   "source": [
    "# Extract title\n",
    "summaries[0].find(\"a\", class_=\"storylink\").get_text().strip()"
   ]
  },
  {
   "cell_type": "code",
   "execution_count": 9,
   "metadata": {},
   "outputs": [
    {
     "name": "stdout",
     "output_type": "stream",
     "text": [
      "30 Article summaries found. Sample:\n",
      "security.txt\n"
     ]
    }
   ],
   "source": [
    "# Find all articles, extract titles\n",
    "articles = []\n",
    "summaries = soup.find_all(\"tr\", class_=\"athing\")\n",
    "for summary in summaries:\n",
    "    title = summary.find(\"a\", class_=\"storylink\").get_text().strip()\n",
    "    articles.append((title))\n",
    "\n",
    "print(len(articles), \"Article summaries found. Sample:\")\n",
    "print(articles[0])"
   ]
  },
  {
   "cell_type": "markdown",
   "metadata": {
    "collapsed": true
   },
   "source": [
    "## Normalization"
   ]
  },
  {
   "cell_type": "markdown",
   "metadata": {},
   "source": [
    "### Case Normalization"
   ]
  },
  {
   "cell_type": "code",
   "execution_count": 10,
   "metadata": {},
   "outputs": [
    {
     "name": "stdout",
     "output_type": "stream",
     "text": [
      "The first time you see The Second Renaissance it may look boring. Look at it at least twice and definitely watch part 2. It will change your view of the matrix. Are the human people the ones who started the war ? Is AI a bad thing ?\n"
     ]
    }
   ],
   "source": [
    "# Sample text\n",
    "text = \"The first time you see The Second Renaissance it may look boring. Look at it at least twice and definitely watch part 2. It will change your view of the matrix. Are the human people the ones who started the war ? Is AI a bad thing ?\"\n",
    "print(text)"
   ]
  },
  {
   "cell_type": "code",
   "execution_count": 11,
   "metadata": {},
   "outputs": [
    {
     "name": "stdout",
     "output_type": "stream",
     "text": [
      "the first time you see the second renaissance it may look boring. look at it at least twice and definitely watch part 2. it will change your view of the matrix. are the human people the ones who started the war ? is ai a bad thing ?\n"
     ]
    }
   ],
   "source": [
    "# Convert to lowercase\n",
    "text = text.lower() \n",
    "print(text)"
   ]
  },
  {
   "cell_type": "markdown",
   "metadata": {},
   "source": [
    "### Punctuation Removal"
   ]
  },
  {
   "cell_type": "code",
   "execution_count": 12,
   "metadata": {},
   "outputs": [
    {
     "name": "stdout",
     "output_type": "stream",
     "text": [
      "the first time you see the second renaissance it may look boring  look at it at least twice and definitely watch part 2  it will change your view of the matrix  are the human people the ones who started the war   is ai a bad thing  \n"
     ]
    }
   ],
   "source": [
    "import re\n",
    "\n",
    "# Remove punctuation characters\n",
    "text = re.sub(r\"[^a-zA-Z0-9]\", \" \", text) \n",
    "print(text)"
   ]
  },
  {
   "cell_type": "markdown",
   "metadata": {},
   "source": [
    "## Tokenization"
   ]
  },
  {
   "cell_type": "code",
   "execution_count": 13,
   "metadata": {},
   "outputs": [
    {
     "name": "stdout",
     "output_type": "stream",
     "text": [
      "['the', 'first', 'time', 'you', 'see', 'the', 'second', 'renaissance', 'it', 'may', 'look', 'boring', 'look', 'at', 'it', 'at', 'least', 'twice', 'and', 'definitely', 'watch', 'part', '2', 'it', 'will', 'change', 'your', 'view', 'of', 'the', 'matrix', 'are', 'the', 'human', 'people', 'the', 'ones', 'who', 'started', 'the', 'war', 'is', 'ai', 'a', 'bad', 'thing']\n"
     ]
    }
   ],
   "source": [
    "# Split text into tokens (words)\n",
    "words = text.split()\n",
    "print(words)"
   ]
  },
  {
   "cell_type": "markdown",
   "metadata": {},
   "source": [
    "### NLTK: Natural Language ToolKit"
   ]
  },
  {
   "cell_type": "code",
   "execution_count": 14,
   "metadata": {},
   "outputs": [],
   "source": [
    "import os\n",
    "import nltk\n",
    "nltk.data.path.append(os.path.join(os.getcwd(), \"nltk_data\"))"
   ]
  },
  {
   "cell_type": "code",
   "execution_count": 15,
   "metadata": {},
   "outputs": [
    {
     "name": "stdout",
     "output_type": "stream",
     "text": [
      "Dr. Smith graduated from the University of Washington. He later started an analytics firm called Lux, which catered to enterprise customers.\n"
     ]
    }
   ],
   "source": [
    "# Another sample text\n",
    "text = \"Dr. Smith graduated from the University of Washington. He later started an analytics firm called Lux, which catered to enterprise customers.\"\n",
    "print(text)"
   ]
  },
  {
   "cell_type": "code",
   "execution_count": 16,
   "metadata": {},
   "outputs": [
    {
     "name": "stdout",
     "output_type": "stream",
     "text": [
      "['Dr.', 'Smith', 'graduated', 'from', 'the', 'University', 'of', 'Washington', '.', 'He', 'later', 'started', 'an', 'analytics', 'firm', 'called', 'Lux', ',', 'which', 'catered', 'to', 'enterprise', 'customers', '.']\n"
     ]
    }
   ],
   "source": [
    "from nltk.tokenize import word_tokenize\n",
    "\n",
    "# Split text into words using NLTK\n",
    "words = word_tokenize(text)\n",
    "print(words)"
   ]
  },
  {
   "cell_type": "code",
   "execution_count": 17,
   "metadata": {},
   "outputs": [
    {
     "name": "stdout",
     "output_type": "stream",
     "text": [
      "['Dr. Smith graduated from the University of Washington.', 'He later started an analytics firm called Lux, which catered to enterprise customers.']\n"
     ]
    }
   ],
   "source": [
    "from nltk.tokenize import sent_tokenize\n",
    "\n",
    "# Split text into sentences\n",
    "sentences = sent_tokenize(text)\n",
    "print(sentences)"
   ]
  },
  {
   "cell_type": "code",
   "execution_count": 18,
   "metadata": {},
   "outputs": [
    {
     "name": "stdout",
     "output_type": "stream",
     "text": [
      "['i', 'me', 'my', 'myself', 'we', 'our', 'ours', 'ourselves', 'you', \"you're\", \"you've\", \"you'll\", \"you'd\", 'your', 'yours', 'yourself', 'yourselves', 'he', 'him', 'his', 'himself', 'she', \"she's\", 'her', 'hers', 'herself', 'it', \"it's\", 'its', 'itself', 'they', 'them', 'their', 'theirs', 'themselves', 'what', 'which', 'who', 'whom', 'this', 'that', \"that'll\", 'these', 'those', 'am', 'is', 'are', 'was', 'were', 'be', 'been', 'being', 'have', 'has', 'had', 'having', 'do', 'does', 'did', 'doing', 'a', 'an', 'the', 'and', 'but', 'if', 'or', 'because', 'as', 'until', 'while', 'of', 'at', 'by', 'for', 'with', 'about', 'against', 'between', 'into', 'through', 'during', 'before', 'after', 'above', 'below', 'to', 'from', 'up', 'down', 'in', 'out', 'on', 'off', 'over', 'under', 'again', 'further', 'then', 'once', 'here', 'there', 'when', 'where', 'why', 'how', 'all', 'any', 'both', 'each', 'few', 'more', 'most', 'other', 'some', 'such', 'no', 'nor', 'not', 'only', 'own', 'same', 'so', 'than', 'too', 'very', 's', 't', 'can', 'will', 'just', 'don', \"don't\", 'should', \"should've\", 'now', 'd', 'll', 'm', 'o', 're', 've', 'y', 'ain', 'aren', \"aren't\", 'couldn', \"couldn't\", 'didn', \"didn't\", 'doesn', \"doesn't\", 'hadn', \"hadn't\", 'hasn', \"hasn't\", 'haven', \"haven't\", 'isn', \"isn't\", 'ma', 'mightn', \"mightn't\", 'mustn', \"mustn't\", 'needn', \"needn't\", 'shan', \"shan't\", 'shouldn', \"shouldn't\", 'wasn', \"wasn't\", 'weren', \"weren't\", 'won', \"won't\", 'wouldn', \"wouldn't\"]\n"
     ]
    }
   ],
   "source": [
    "# List stop words\n",
    "from nltk.corpus import stopwords\n",
    "print(stopwords.words(\"english\"))"
   ]
  },
  {
   "cell_type": "code",
   "execution_count": 19,
   "metadata": {},
   "outputs": [
    {
     "name": "stdout",
     "output_type": "stream",
     "text": [
      "['the', 'first', 'time', 'you', 'see', 'the', 'second', 'renaissance', 'it', 'may', 'look', 'boring', 'look', 'at', 'it', 'at', 'least', 'twice', 'and', 'definitely', 'watch', 'part', '2', 'it', 'will', 'change', 'your', 'view', 'of', 'the', 'matrix', 'are', 'the', 'human', 'people', 'the', 'ones', 'who', 'started', 'the', 'war', 'is', 'ai', 'a', 'bad', 'thing']\n"
     ]
    }
   ],
   "source": [
    "# Reset text\n",
    "text = \"The first time you see The Second Renaissance it may look boring. Look at it at least twice and definitely watch part 2. It will change your view of the matrix. Are the human people the ones who started the war ? Is AI a bad thing ?\"\n",
    "\n",
    "# Normalize it\n",
    "text = re.sub(r\"[^a-zA-Z0-9]\", \" \", text.lower())\n",
    "\n",
    "# Tokenize it\n",
    "words = text.split()\n",
    "print(words)"
   ]
  },
  {
   "cell_type": "code",
   "execution_count": 20,
   "metadata": {},
   "outputs": [
    {
     "name": "stdout",
     "output_type": "stream",
     "text": [
      "['first', 'time', 'see', 'second', 'renaissance', 'may', 'look', 'boring', 'look', 'least', 'twice', 'definitely', 'watch', 'part', '2', 'change', 'view', 'matrix', 'human', 'people', 'ones', 'started', 'war', 'ai', 'bad', 'thing']\n"
     ]
    }
   ],
   "source": [
    "# Remove stop words\n",
    "words = [w for w in words if w not in stopwords.words(\"english\")]\n",
    "print(words)"
   ]
  },
  {
   "cell_type": "markdown",
   "metadata": {},
   "source": [
    "### Sentence Parsing"
   ]
  },
  {
   "cell_type": "code",
   "execution_count": 21,
   "metadata": {},
   "outputs": [
    {
     "name": "stdout",
     "output_type": "stream",
     "text": [
      "(S\n",
      "  (NP I)\n",
      "  (VP\n",
      "    (VP (V shot) (NP (Det an) (N elephant)))\n",
      "    (PP (P in) (NP (Det my) (N pajamas)))))\n",
      "(S\n",
      "  (NP I)\n",
      "  (VP\n",
      "    (V shot)\n",
      "    (NP (Det an) (N elephant) (PP (P in) (NP (Det my) (N pajamas))))))\n"
     ]
    }
   ],
   "source": [
    "import nltk\n",
    "\n",
    "# Define a custom grammar\n",
    "my_grammar = nltk.CFG.fromstring(\"\"\"\n",
    "S -> NP VP\n",
    "PP -> P NP\n",
    "NP -> Det N | Det N PP | 'I'\n",
    "VP -> V NP | VP PP\n",
    "Det -> 'an' | 'my'\n",
    "N -> 'elephant' | 'pajamas'\n",
    "V -> 'shot'\n",
    "P -> 'in'\n",
    "\"\"\")\n",
    "parser = nltk.ChartParser(my_grammar)\n",
    "\n",
    "# Parse a sentence\n",
    "sentence = word_tokenize(\"I shot an elephant in my pajamas\")\n",
    "for tree in parser.parse(sentence):\n",
    "    print(tree)"
   ]
  },
  {
   "cell_type": "markdown",
   "metadata": {},
   "source": [
    "## Stemming & Lemmatization\n",
    "\n",
    "### Stemming"
   ]
  },
  {
   "cell_type": "code",
   "execution_count": 22,
   "metadata": {},
   "outputs": [
    {
     "name": "stdout",
     "output_type": "stream",
     "text": [
      "['first', 'time', 'see', 'second', 'renaiss', 'may', 'look', 'bore', 'look', 'least', 'twice', 'definit', 'watch', 'part', '2', 'chang', 'view', 'matrix', 'human', 'peopl', 'one', 'start', 'war', 'ai', 'bad', 'thing']\n"
     ]
    }
   ],
   "source": [
    "from nltk.stem.porter import PorterStemmer\n",
    "\n",
    "# Reduce words to their stems\n",
    "stemmed = [PorterStemmer().stem(w) for w in words]\n",
    "print(stemmed)"
   ]
  },
  {
   "cell_type": "markdown",
   "metadata": {},
   "source": [
    "### Lemmatization"
   ]
  },
  {
   "cell_type": "code",
   "execution_count": 23,
   "metadata": {},
   "outputs": [
    {
     "name": "stdout",
     "output_type": "stream",
     "text": [
      "['first', 'time', 'see', 'second', 'renaissance', 'may', 'look', 'boring', 'look', 'least', 'twice', 'definitely', 'watch', 'part', '2', 'change', 'view', 'matrix', 'human', 'people', 'one', 'started', 'war', 'ai', 'bad', 'thing']\n"
     ]
    }
   ],
   "source": [
    "from nltk.stem.wordnet import WordNetLemmatizer\n",
    "\n",
    "# Reduce words to their root form\n",
    "lemmed = [WordNetLemmatizer().lemmatize(w) for w in words]\n",
    "print(lemmed)"
   ]
  },
  {
   "cell_type": "code",
   "execution_count": 24,
   "metadata": {},
   "outputs": [
    {
     "name": "stdout",
     "output_type": "stream",
     "text": [
      "['first', 'time', 'see', 'second', 'renaissance', 'may', 'look', 'bore', 'look', 'least', 'twice', 'definitely', 'watch', 'part', '2', 'change', 'view', 'matrix', 'human', 'people', 'one', 'start', 'war', 'ai', 'bad', 'thing']\n"
     ]
    }
   ],
   "source": [
    "# Lemmatize verbs by specifying pos\n",
    "lemmed = [WordNetLemmatizer().lemmatize(w, pos='v') for w in lemmed]\n",
    "print(lemmed)"
   ]
  },
  {
   "cell_type": "code",
   "execution_count": null,
   "metadata": {},
   "outputs": [],
   "source": []
  }
 ],
 "metadata": {
  "kernelspec": {
   "display_name": "Python 3",
   "language": "python",
   "name": "python3"
  },
  "language_info": {
   "codemirror_mode": {
    "name": "ipython",
    "version": 3
   },
   "file_extension": ".py",
   "mimetype": "text/x-python",
   "name": "python",
   "nbconvert_exporter": "python",
   "pygments_lexer": "ipython3",
   "version": "3.8.5"
  }
 },
 "nbformat": 4,
 "nbformat_minor": 2
}
